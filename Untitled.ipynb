{
 "cells": [
  {
   "cell_type": "code",
   "execution_count": 1,
   "metadata": {},
   "outputs": [],
   "source": [
    "from medium_scraper import main, get_links,get_article\n",
    "import urllib3\n",
    "from bs4 import BeautifulSoup\n",
    "import requests\n",
    "import os\n",
    "import csv\n",
    "import unicodedata\n",
    "import pandas as pd"
   ]
  },
  {
   "cell_type": "code",
   "execution_count": null,
   "metadata": {},
   "outputs": [
    {
     "name": "stdout",
     "output_type": "stream",
     "text": [
      "2017-01-01\n",
      "2017-01-02\n",
      "2017-01-03\n",
      "Exception failed: HTTPSConnectionPool(host='practicalmachinelearning.net', port=443): Max retries exceeded with url: /why-machine-learning-will-crush-technical-analysis-386cc7803ff?source=tag_archive---------1----------------------- (Caused by NewConnectionError('<urllib3.connection.VerifiedHTTPSConnection object at 0x00000205C5C53D30>: Failed to establish a new connection: [WinError 10060] A connection attempt failed because the connected party did not properly respond after a period of time, or established connection failed because connected host has failed to respond',))\n",
      "Exception failed: HTTPSConnectionPool(host='secure.hines.digital', port=443): Max retries exceeded with url: /the-thing-about-metrics-your-digital-consultants-probably-dont-tell-you-c4f67ed69309?source=tag_archive---------2----------------------- (Caused by SSLError(SSLError(\"bad handshake: Error([('SSL routines', 'ssl3_read_bytes', 'tlsv1 alert internal error')],)\",),))\n",
      "2017-01-04\n",
      "2017-01-05\n",
      "2017-01-06\n",
      "2017-01-07\n",
      "2017-01-08\n",
      "2017-01-09\n",
      "2017-01-10\n",
      "Exception failed: list index out of range\n",
      "Exception failed: list index out of range\n",
      "2017-01-11\n",
      "Exception failed: list index out of range\n",
      "2017-01-12\n",
      "Exception failed: HTTPSConnectionPool(host='makermatters.space', port=443): Max retries exceeded with url: /the-future-ai-what-does-it-mean-for-the-kids-840bf1f6c74f?source=tag_archive---------5----------------------- (Caused by SSLError(SSLError(\"bad handshake: Error([('SSL routines', 'tls_process_server_certificate', 'certificate verify failed')],)\",),))\n",
      "2017-01-13\n",
      "2017-01-14\n",
      "2017-01-15\n",
      "Exception failed: HTTPSConnectionPool(host='blog.musiccoco.com', port=443): Max retries exceeded with url: /music-industry-revenue-why-nigeria-has-to-change-its-current-model-2abebb81fc33?source=tag_archive---------4----------------------- (Caused by NewConnectionError('<urllib3.connection.VerifiedHTTPSConnection object at 0x00000205C72E7D30>: Failed to establish a new connection: [WinError 10060] A connection attempt failed because the connected party did not properly respond after a period of time, or established connection failed because connected host has failed to respond',))\n",
      "2017-01-16\n",
      "2017-01-17\n",
      "Exception failed: HTTPSConnectionPool(host='blog.rocketbots.io', port=443): Max retries exceeded with url: /so-you-want-a-chatbot-of-your-very-own-55809a15b587?source=tag_archive---------12----------------------- (Caused by NewConnectionError('<urllib3.connection.VerifiedHTTPSConnection object at 0x00000205C734AE10>: Failed to establish a new connection: [WinError 10060] A connection attempt failed because the connected party did not properly respond after a period of time, or established connection failed because connected host has failed to respond',))\n",
      "2017-01-18\n",
      "Exception failed: HTTPSConnectionPool(host='mattermarkdaily.com', port=443): Max retries exceeded with url: /why-the-mattermark-growth-score-is-your-sales-teams-crystal-ball-43a5d3bd05b4?source=tag_archive---------4----------------------- (Caused by NewConnectionError('<urllib3.connection.VerifiedHTTPSConnection object at 0x00000205C5B420B8>: Failed to establish a new connection: [WinError 10060] A connection attempt failed because the connected party did not properly respond after a period of time, or established connection failed because connected host has failed to respond',))\n",
      "2017-01-19\n",
      "2017-01-20\n",
      "2017-01-21\n",
      "2017-01-22\n",
      "2017-01-23\n",
      "2017-01-24\n",
      "Exception failed: list index out of range\n",
      "Exception failed: HTTPSConnectionPool(host='blog.rocketbots.io', port=443): Max retries exceeded with url: /are-you-ready-to-launch-your-chatbot-28a8f4be2a85?source=tag_archive---------10----------------------- (Caused by NewConnectionError('<urllib3.connection.VerifiedHTTPSConnection object at 0x00000205C58F41D0>: Failed to establish a new connection: [WinError 10060] A connection attempt failed because the connected party did not properly respond after a period of time, or established connection failed because connected host has failed to respond',))\n",
      "Exception failed: list index out of range\n",
      "2017-01-25\n",
      "Exception failed: list index out of range\n",
      "2017-01-26\n",
      "Exception failed: list index out of range\n",
      "2017-01-27\n",
      "2017-01-28\n",
      "2017-01-29\n",
      "Exception failed: list index out of range\n",
      "2017-01-30\n",
      "2017-01-31\n",
      "2017-02-01\n",
      "2017-02-02\n",
      "2017-02-03\n",
      "2017-02-04\n",
      "2017-02-05\n",
      "2017-02-06\n",
      "2017-02-07\n",
      "2017-02-08\n"
     ]
    }
   ],
   "source": [
    "main()"
   ]
  },
  {
   "cell_type": "code",
   "execution_count": null,
   "metadata": {},
   "outputs": [],
   "source": []
  },
  {
   "cell_type": "code",
   "execution_count": 3,
   "metadata": {},
   "outputs": [],
   "source": [
    "df = pd.read_pickle('data/raw_medium_articles.pkl')"
   ]
  },
  {
   "cell_type": "code",
   "execution_count": 4,
   "metadata": {},
   "outputs": [
    {
     "data": {
      "text/plain": [
       "6322"
      ]
     },
     "execution_count": 4,
     "metadata": {},
     "output_type": "execute_result"
    }
   ],
   "source": [
    "len(df)"
   ]
  },
  {
   "cell_type": "code",
   "execution_count": null,
   "metadata": {},
   "outputs": [],
   "source": [
    "df[df['author'].str.find('Charles')!=-1]"
   ]
  },
  {
   "cell_type": "code",
   "execution_count": null,
   "metadata": {},
   "outputs": [],
   "source": [
    "df.iloc[0,2]"
   ]
  },
  {
   "cell_type": "code",
   "execution_count": null,
   "metadata": {},
   "outputs": [],
   "source": [
    "from datetime import timedelta, date\n",
    "\n",
    "def daterange(start_date, end_date):\n",
    "    for n in range(int ((end_date - start_date).days)):\n",
    "        yield start_date + timedelta(n)\n",
    "\n",
    "start_date = date(2013, 1, 1)\n",
    "end_date = date(2015, 6, 2)"
   ]
  },
  {
   "cell_type": "code",
   "execution_count": null,
   "metadata": {},
   "outputs": [],
   "source": [
    "for single_date in daterange(start_date, date.today()):\n",
    "    print(single_date.strftime(\"%Y/%m/%d\"))"
   ]
  },
  {
   "cell_type": "code",
   "execution_count": null,
   "metadata": {},
   "outputs": [],
   "source": []
  }
 ],
 "metadata": {
  "kernelspec": {
   "display_name": "Python 3",
   "language": "python",
   "name": "python3"
  },
  "language_info": {
   "codemirror_mode": {
    "name": "ipython",
    "version": 3
   },
   "file_extension": ".py",
   "mimetype": "text/x-python",
   "name": "python",
   "nbconvert_exporter": "python",
   "pygments_lexer": "ipython3",
   "version": "3.6.6"
  }
 },
 "nbformat": 4,
 "nbformat_minor": 2
}
